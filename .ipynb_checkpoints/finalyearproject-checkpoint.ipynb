{
 "cells": [
  {
   "cell_type": "code",
   "execution_count": null,
   "metadata": {},
   "outputs": [],
   "source": [
    "\n"
   ]
  },
  {
   "cell_type": "code",
   "execution_count": 1,
   "metadata": {},
   "outputs": [],
   "source": [
    "import glob\n",
    "import cv2\n",
    "import numpy as np\n",
    "import os\n",
    "import PIL\n",
    "from PIL import Image\n",
    "def FrameCapture(path,skipfactor=4): \n",
    "      \n",
    "    # Path to video file \n",
    "    vidObj = cv2.VideoCapture(path) \n",
    "  \n",
    "    # Used as counter variable \n",
    "    count = 0\n",
    "    ind = 0\n",
    "  \n",
    "    # checks whether frames were extracted \n",
    "    success = 1\n",
    "    listOfImages = []\n",
    "    while success: \n",
    "  \n",
    "        # vidObj object calls read \n",
    "        # function extract frames \n",
    "        success, image = vidObj.read()\n",
    "        #image = cv2.cvtColor(image, cv2.COLOR_BGR2GRAY)\n",
    "        # Saves the frames with frame-count \n",
    "        if(count%skipfactor==0):\n",
    "            listOfImages.append(image)\n",
    "            #cv2.imwrite(\"extractedframes/frame%d.jpg\" %ind, image)\n",
    "            #cv2.imshow('frame%d.jpg'%ind,image)\n",
    "            \n",
    "            ind += 1\n",
    "        count += 1\n",
    "        type(image)\n",
    "    return listOfImages"
   ]
  },
  {
   "cell_type": "code",
   "execution_count": 2,
   "metadata": {},
   "outputs": [],
   "source": [
    "def ListGrayscaleFrameArrays(listOfFrames):\n",
    "    listOfFrameArray=[]\n",
    "    for frame  in listOfFrames :\n",
    "        #converts RBG image to Gray scale and returns as numpy 2D array \n",
    "        grayscalearray = np.array(Image.fromarray(frame).convert('L'))\n",
    "        listOfFrameArray.append(grayscalearray)\n",
    "    return listOfFrameArray\n",
    "\n"
   ]
  },
  {
   "cell_type": "code",
   "execution_count": 3,
   "metadata": {},
   "outputs": [],
   "source": [
    "\n",
    "def StoreFrames(path,skipfactor=4):\n",
    "    #extracted features stores all gray frames of a  video individually for further processing\n",
    "    #clear extracted frames folder first\n",
    "    files = glob.glob('extractedframes/*')\n",
    "    for f in files:\n",
    "        os.remove(f)\n",
    "    FrameCapture(path,skipfactor)\n",
    "\n",
    "\n"
   ]
  },
  {
   "cell_type": "code",
   "execution_count": 4,
   "metadata": {},
   "outputs": [],
   "source": [
    "#A  video is converted to a numpy array\n",
    "def ConvertVideoToGrayscaleArray(path):\n",
    "    listofImages = FrameCapture(path)\n",
    "\n",
    "    GrayScaleList= ListGrayscaleFrameArrays(listofImages)\n",
    "\n",
    "    ArrayofGrayScaleArray = np.array(GrayScaleList)\n",
    "    print(ArrayofGrayScaleArray.shape)\n",
    "    return ArrayofGrayScaleArray"
   ]
  },
  {
   "cell_type": "code",
   "execution_count": 5,
   "metadata": {},
   "outputs": [
    {
     "name": "stdout",
     "output_type": "stream",
     "text": [
      "(13, 576, 720)\n"
     ]
    }
   ],
   "source": [
    "#A  video is converted to a numpy array\n",
    "ArrayofGrayScaleArray= ConvertVideoToGrayscaleArray('samplefights/newfi30.avi')"
   ]
  },
  {
   "cell_type": "code",
   "execution_count": 8,
   "metadata": {},
   "outputs": [],
   "source": [
    "#movementfiltering\n",
    "\n",
    "#stores binarized list of frames in jpg format \n",
    "def BinarizeGrayscaleArray(ArrayofGrayScaleArray,path,threshold=30):\n",
    "    for i in range(1,ArrayofGrayScaleArray.shape[0]):\n",
    "        binaryImage=abs(ArrayofGrayScaleArray[i]-ArrayofGrayScaleArray[i-1])\n",
    "        #Binarization\n",
    "        binaryImage[binaryImage > threshold] = 255\n",
    "        binaryImage[binaryImage <= threshold] = 0  \n",
    "        data = Image.fromarray(binaryImage) \n",
    "        data.save(path+'/'+'frame%d.jpg'%i)\n",
    "  "
   ]
  },
  {
   "cell_type": "code",
   "execution_count": 9,
   "metadata": {},
   "outputs": [],
   "source": [
    "BinarizeGrayscaleArray(ArrayofGrayScaleArray,'binaryframes')"
   ]
  },
  {
   "cell_type": "code",
   "execution_count": null,
   "metadata": {},
   "outputs": [],
   "source": []
  }
 ],
 "metadata": {
  "kernelspec": {
   "display_name": "Python 3",
   "language": "python",
   "name": "python3"
  },
  "language_info": {
   "codemirror_mode": {
    "name": "ipython",
    "version": 3
   },
   "file_extension": ".py",
   "mimetype": "text/x-python",
   "name": "python",
   "nbconvert_exporter": "python",
   "pygments_lexer": "ipython3",
   "version": "3.8.6"
  }
 },
 "nbformat": 4,
 "nbformat_minor": 4
}
