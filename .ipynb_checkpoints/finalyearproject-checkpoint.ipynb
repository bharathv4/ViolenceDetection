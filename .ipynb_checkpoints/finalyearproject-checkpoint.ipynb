{
 "cells": [
  {
   "cell_type": "code",
   "execution_count": null,
   "metadata": {},
   "outputs": [],
   "source": [
    "\n"
   ]
  },
  {
   "cell_type": "code",
   "execution_count": 393,
   "metadata": {},
   "outputs": [],
   "source": [
    "import glob\n",
    "import cv2\n",
    "import numpy as np\n",
    "import os\n",
    "import PIL\n",
    "from PIL import Image\n",
    "def FrameCapture(path,skipfactor=3): \n",
    "    #clearing extracted frames\n",
    "    files = glob.glob('extractedframes/*')\n",
    "    for f in files:\n",
    "        os.remove(f)\n",
    "        \n",
    "    # Path to video file \n",
    "    vidObj = cv2.VideoCapture(path) \n",
    "    fps = vidObj.get(cv2.CAP_PROP_FPS)\n",
    "    print(fps)\n",
    "    vidObj.set(cv2.CAP_PROP_FPS, 30)\n",
    "    fps = vidObj.get(cv2.CAP_PROP_FPS)\n",
    "    print(fps)\n",
    "    # Used as counter variable \n",
    "    count = 0\n",
    "    ind = 0\n",
    "  \n",
    "    # checks whether frames were extracted \n",
    "    success = 1\n",
    "    listOfImages = []\n",
    "    while success: \n",
    "  \n",
    "        # vidObj object calls read \n",
    "        # function extract frames \n",
    "        success, image = vidObj.read()\n",
    "        #image = cv2.cvtColor(image, cv2.COLOR_BGR2GRAY)\n",
    "        # Saves the frames with frame-count \n",
    "        if(count%skipfactor==0):\n",
    "            listOfImages.append(image)\n",
    "            cv2.imwrite(\"extractedframes/frame%d.jpg\" %ind, image)\n",
    "            #cv2.imshow('frame%d.jpg'%ind,image)\n",
    "            \n",
    "            ind += 1\n",
    "        count += 1\n",
    "        type(image)\n",
    "    return listOfImages"
   ]
  },
  {
   "cell_type": "code",
   "execution_count": 494,
   "metadata": {},
   "outputs": [],
   "source": [
    "def ListGrayscaleFrameArrays(listOfFrames):\n",
    "    listOfFrameArray=[]\n",
    "    listOfFrames.pop()\n",
    "    \n",
    "    for ind,frame  in enumerate(listOfFrames):\n",
    "        #converts RBG image to Gray scale and returns as numpy 2D array\n",
    "        ff= frame.copy()\n",
    "        gray = cv2.cvtColor(ff, cv2.COLOR_BGR2GRAY)\n",
    "        \n",
    "#         print(gray.shape)\n",
    "#         scale_percent = 60 # percent of original size\n",
    "#         width = int(1000)\n",
    "#         height = int(1000)\n",
    "#         dim = (width, height)\n",
    "#         # resize image\n",
    "#         resized = cv2.resize(gray, dim, interpolation = cv2.INTER_AREA)\n",
    "        cv2.imwrite(\"grayframes/frame%d.jpg\" %ind, gray)\n",
    "        #using PIL\n",
    "        #grayscalearray = np.array(Image.fromarray(frame).convert('L'))\n",
    "        grayscalearray = np.array(gray)\n",
    "        \n",
    "        listOfFrameArray.append(grayscalearray)\n",
    "        \n",
    "    return listOfFrameArray\n",
    "\n"
   ]
  },
  {
   "cell_type": "code",
   "execution_count": 495,
   "metadata": {},
   "outputs": [],
   "source": [
    "\n",
    "def StoreFrames(path,skipfactor=2):\n",
    "    #extracted features stores all gray frames of a  video individually for further processing\n",
    "    #clear extracted frames folder first\n",
    "    files = glob.glob('extractedframes/*')\n",
    "    for f in files:\n",
    "        os.remove(f)\n",
    "    FrameCapture(path,skipfactor)\n",
    "\n",
    "\n"
   ]
  },
  {
   "cell_type": "code",
   "execution_count": 496,
   "metadata": {},
   "outputs": [],
   "source": [
    "#A  video is converted to a numpy array\n",
    "def ConvertVideoToGrayscaleArray(path):\n",
    "    listofImages = FrameCapture(path,2)\n",
    "\n",
    "    GrayScaleList= ListGrayscaleFrameArrays(listofImages)\n",
    "    \n",
    "    ArrayofGrayScaleArray = np.array(GrayScaleList)\n",
    "    \n",
    "    #print(ArrayofGrayScaleArray.shape)\n",
    "    return ArrayofGrayScaleArray"
   ]
  },
  {
   "cell_type": "code",
   "execution_count": 497,
   "metadata": {},
   "outputs": [
    {
     "name": "stdout",
     "output_type": "stream",
     "text": [
      "25.0\n",
      "25.0\n",
      "(288, 360)\n",
      "(1000, 1000)\n",
      "(288, 360)\n",
      "(1000, 1000)\n",
      "(288, 360)\n",
      "(1000, 1000)\n",
      "(288, 360)\n",
      "(1000, 1000)\n",
      "(288, 360)\n",
      "(1000, 1000)\n",
      "(288, 360)\n",
      "(1000, 1000)\n",
      "(288, 360)\n",
      "(1000, 1000)\n",
      "(288, 360)\n",
      "(1000, 1000)\n",
      "(288, 360)\n",
      "(1000, 1000)\n",
      "(288, 360)\n",
      "(1000, 1000)\n",
      "(288, 360)\n",
      "(1000, 1000)\n",
      "(288, 360)\n",
      "(1000, 1000)\n",
      "(288, 360)\n",
      "(1000, 1000)\n",
      "(288, 360)\n",
      "(1000, 1000)\n",
      "(288, 360)\n",
      "(1000, 1000)\n",
      "(288, 360)\n",
      "(1000, 1000)\n",
      "(288, 360)\n",
      "(1000, 1000)\n",
      "(288, 360)\n",
      "(1000, 1000)\n",
      "(288, 360)\n",
      "(1000, 1000)\n",
      "(288, 360)\n",
      "(1000, 1000)\n"
     ]
    }
   ],
   "source": [
    "#A  video is converted to a numpy array\n",
    "ArrayofGrayScaleArray= ConvertVideoToGrayscaleArray('samplefights/fi1_xvid.avi')"
   ]
  },
  {
   "cell_type": "code",
   "execution_count": 498,
   "metadata": {},
   "outputs": [],
   "source": [
    "#movementfiltering\n",
    "\n",
    "#stores binarized list of frames in jpg format \n",
    "def BinarizeGrayscaleArray(ArrayofGrayScaleArray,path,threshold=120):\n",
    "    files = glob.glob('binaryframes/*')\n",
    "    for f in files:\n",
    "        os.remove(f)\n",
    "    for i in range(1,ArrayofGrayScaleArray.shape[0]):\n",
    "        binaryImage=abs(ArrayofGrayScaleArray[i]-ArrayofGrayScaleArray[i-1])\n",
    "        #Binarization\n",
    "        binaryImage[binaryImage > threshold] = 255\n",
    "        binaryImage[binaryImage <= threshold] = 0  \n",
    "        data = Image.fromarray(binaryImage) \n",
    "        data.save(path+'/'+'frame%d.jpg'%i)\n",
    "  "
   ]
  },
  {
   "cell_type": "code",
   "execution_count": 499,
   "metadata": {},
   "outputs": [],
   "source": [
    "BinarizeGrayscaleArray(ArrayofGrayScaleArray,'binaryframes')"
   ]
  },
  {
   "cell_type": "code",
   "execution_count": 500,
   "metadata": {},
   "outputs": [
    {
     "data": {
      "text/plain": [
       "'C:\\\\Users\\\\DELL\\\\ViolenceDetection'"
      ]
     },
     "execution_count": 500,
     "metadata": {},
     "output_type": "execute_result"
    }
   ],
   "source": [
    "pwd"
   ]
  },
  {
   "cell_type": "code",
   "execution_count": 501,
   "metadata": {},
   "outputs": [
    {
     "name": "stdout",
     "output_type": "stream",
     "text": [
      "[[0 1 1 0]\n",
      " [1 1 1 1]\n",
      " [1 1 1 1]\n",
      " [0 1 1 0]]\n"
     ]
    }
   ],
   "source": [
    "erosionkernel = np.ones((4,4), np.uint8)\n",
    "erosionkernel[0][0]=0\n",
    "erosionkernel[0][3]=0\n",
    "erosionkernel[3][0]=0\n",
    "erosionkernel[3][3]=0\n",
    "print(erosionkernel)"
   ]
  },
  {
   "cell_type": "code",
   "execution_count": 502,
   "metadata": {},
   "outputs": [
    {
     "name": "stdout",
     "output_type": "stream",
     "text": [
      "[[0 1 0]\n",
      " [1 1 1]\n",
      " [0 1 0]]\n"
     ]
    }
   ],
   "source": [
    "\n",
    "  \n",
    "# Taking a matrix of size 5 as the kernel \n",
    "kernel = np.ones((3,3), np.uint8)\n",
    "kernel[0][0]=0\n",
    "kernel[0][2]=0\n",
    "kernel[2][0]=0\n",
    "kernel[2][2]=0\n",
    "print(kernel)\n",
    "# The first parameter is the original image, \n",
    "# kernel is the matrix with which image is  \n",
    "# convolved and third parameter is the number  \n",
    "# of iterations, which will determine how much  \n",
    "# you want to erode/dilate a given image.\n",
    "files = glob.glob('morphologicallyopenedframes/*')\n",
    "for f in files:\n",
    "    os.remove(f)\n",
    "files = glob.glob('binaryframes/*')\n",
    "for ind,f in enumerate(files):\n",
    "    img = cv2.imread(f, 0) \n",
    "    img_erosion = cv2.erode(img, kernel, iterations=1) \n",
    "    #img_dilation = cv2.dilate(img, kernel, iterations=1)\n",
    "    cv2.imwrite(\"morphologicallyopenedframes/frame%d.jpg\" %ind,img_erosion)\n"
   ]
  },
  {
   "cell_type": "code",
   "execution_count": null,
   "metadata": {},
   "outputs": [],
   "source": []
  },
  {
   "cell_type": "code",
   "execution_count": null,
   "metadata": {},
   "outputs": [],
   "source": []
  }
 ],
 "metadata": {
  "kernelspec": {
   "display_name": "Python 3",
   "language": "python",
   "name": "python3"
  },
  "language_info": {
   "codemirror_mode": {
    "name": "ipython",
    "version": 3
   },
   "file_extension": ".py",
   "mimetype": "text/x-python",
   "name": "python",
   "nbconvert_exporter": "python",
   "pygments_lexer": "ipython3",
   "version": "3.8.6"
  }
 },
 "nbformat": 4,
 "nbformat_minor": 4
}
